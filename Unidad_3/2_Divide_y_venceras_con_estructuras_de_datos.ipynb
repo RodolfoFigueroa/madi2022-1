{
 "cells": [
  {
   "cell_type": "markdown",
   "metadata": {
    "colab_type": "text",
    "id": "view-in-github"
   },
   "source": [
    "<a href=\"https://colab.research.google.com/github/RodolfoFigueroa/madi2022-1/blob/main/4_Divide_y_venceras_con_estructuras_de_datos.ipynb\" target=\"_parent\"><img src=\"https://colab.research.google.com/assets/colab-badge.svg\" alt=\"Open In Colab\"/></a>"
   ]
  },
  {
   "cell_type": "code",
   "execution_count": 105,
   "metadata": {},
   "outputs": [],
   "source": [
    "import numpy as np"
   ]
  },
  {
   "cell_type": "markdown",
   "metadata": {
    "id": "rJmUt3n2uYWJ"
   },
   "source": [
    "En esta sesión, veremos dos estructuras de datos que están muy ligadas a las ideas de los algoritmos de divide y vencerás, que suelen ser muy útiles para realizar operaciones que suelen requerirse bastante."
   ]
  },
  {
   "cell_type": "markdown",
   "metadata": {
    "id": "tKoBPnksvBZ9"
   },
   "source": [
    "# Trie\n",
    "\n",
    "Consideremos el siguiente problema. Dadas dos palabras, decimos que su \"similitud\" es el mayor número de letras iniciales en las que coinciden, es decir, es el tamaño del prefijo común más grande entre ambas palabras. Dado un conjunto de palabras $C$, ,y una nueva palabra, $s$, queremos saber la mayor similitud posible con alguna letra del conjunto. \n",
    "\n",
    "¿Cómo proceder? Una forma de hacerlo es haciendo una búsqueda exhaustiva, donde para cada palabra de $C$ la comparamos con la palabra $s$, y vamos verificando letra por letra los prefijos hasta que dejen de coincidir. Podemos acotar la complejidad en tiempo por $O(|C|\\cdot |s|)$. ¿Qué pasa si queremos repetir el proceso para una cantidad muy grande de palabras s?\n",
    "\n",
    "Otra forma de atacar el problema sería ordenar las palabras en orden alfabético, incluyendo a $s$, y posteriormente comparar a $s$ con las palabras vecinas en el ordenamiento (queda como ejercicio probar que en efecto uno de sus vecinos es la palabra que cumple tener mayor similitud con $s$). ¿Qué complejidad tiene esto?\n",
    "\n",
    "La forma que veremos introduce una estructura, que resulta ser muy poderosa para este tipo de problemas, es un árbol especial, que tiene por nombre *trie*. Un trie es un árbol donde cada nodo puede tener $26$ hijos (uno por cada letra del abecedario). De este modo, si una palabra tiene las letras \"xy\" de forma consecutiva, el respectivo nodo tendrá un hijo no nulo en la entrada correspondiente a \"y\". Veamos un ejemplo de esta estructura.\n",
    "\n",
    "Consideremos las palabras `[abcdef, abecede, hola, hoja, puedes, luz]`. El trie respectivo a este conjunto de palabras es el siguiente:\n",
    "\n",
    "```\n",
    "       (Nodo raíz)\n",
    "      /   |   |  \\\n",
    "     a    h   p   l\n",
    "     |    |   \\    \\\n",
    "     b    o    u    u\n",
    "    / \\   | \\   \\    \\\n",
    "   c   e  l  j   e    z\n",
    "   |   |  |  |   |\n",
    "   d   c  a  a   d\n",
    "   |   |         |\n",
    "   e   e         e\n",
    "   |   |         |\n",
    "   f   d         s\n",
    "       |\n",
    "       e\n",
    "```\n",
    "\n",
    "Esta estructura nos permite identificar de manera rápida y sencilla el mayor prefijo que coincide con cierta palabra. Veamos cómo implementar esta estructura y cómo usarla para nuestro problema."
   ]
  },
  {
   "cell_type": "code",
   "execution_count": 12,
   "metadata": {
    "colab": {
     "base_uri": "https://localhost:8080/"
    },
    "id": "RzGPrHkciSf4",
    "outputId": "bd13c35c-2e8f-41a9-c4f6-49d8de4444bc"
   },
   "outputs": [
    {
     "name": "stdout",
     "output_type": "stream",
     "text": [
      "2\n",
      "4\n",
      "1\n"
     ]
    }
   ],
   "source": [
    "def char_index(c):\n",
    "    return ord(c) - ord('a')\n",
    "\n",
    "class TrieNode:\n",
    "    def __init__(self):\n",
    "        self.children = [None]*26\n",
    "        \n",
    "    def insert(self, word):\n",
    "        word = word.casefold()\n",
    "        l = len(word)\n",
    "        curr = self\n",
    "        for c in word:\n",
    "            idx = char_index(c)\n",
    "            if curr.children[idx] is None:\n",
    "                curr.children[idx] = TrieNode()\n",
    "            curr = curr.children[idx]\n",
    "            \n",
    "    def count_prefix(self, word):\n",
    "        curr = self\n",
    "        count = 0\n",
    "        for c in word:\n",
    "            idx = char_index(c)\n",
    "            if not curr.children[idx]:\n",
    "                return count\n",
    "            else:\n",
    "                curr = curr.children[idx]\n",
    "                count += 1\n",
    "        return count\n",
    "\n",
    "\n",
    "C = [\"abcdef\", \"abecede\", \"hola\", \"hoja\", \"puedes\", \"luz\"]\n",
    "root = TrieNode()\n",
    "for c in C:\n",
    "    root.insert(c)\n",
    "\n",
    "S = [\"abaco\", \"holandes\", \"paz\"]\n",
    "for s in S:\n",
    "    print(root.count_prefix(s))"
   ]
  },
  {
   "cell_type": "markdown",
   "metadata": {},
   "source": [
    "# Segmentos\n",
    "\n",
    "Dada una lista $L$ de números reales ($|L| = n$), queremos saber la suma de los elementos en un intervalo dado, es decir $L_i + L_{i+1} + \\dots + L_j$ para determinados $i \\leq j$. Además de esto, queremos poder actualizar nuestra lista $L$. Es decir, tenemos dos tipos de operaciones:\n",
    "\n",
    "*   Preguntar por la suma de los valores con índices en el intervalo $[i,j]$.\n",
    "*   Actualizar el valor de cierto elemento $L_i$.\n",
    "\n",
    "Una forma sencilla de poder recuperar el valor de la suma en cierto intervalo es guardando una lista de sumas acumuladas, sin embargo, esto hace que las operaciones de actualización de elementos sean costosas.\n",
    "\n",
    "¿Qué pasa si dividimos la lista en sublistas de longitud $k$? (Veremos después qué $k$ nos conviene). Tendremos un total de $\\left\\lceil\\frac{n}{k}\\right\\rceil$ 'bloques', para cada bloque guardaremos el valor de la suma de sus elementos. ¿Qué tan costosas son las operaciones de actualización y preguntar por sumas? \n",
    "\n",
    "* Para actualizar, únicamente debemos actualizar el valor del elemento, así como la suma correspondiente en el bloque al que pertenece, por lo que cada actualización nos toma $O(1)$. \n",
    "* Para calcular la suma de un intervalo $I$, notamos que para cada bloque $B$ existen tres casos:\n",
    "\n",
    "    1. $B\\cap I=\\emptyset$. En este caso, no hacemos nada. ($O(1)$)\n",
    "    2. $B\\subseteq I$. Aquí, simplemente añadimos la suma del bloque entero (que tenemos guardada). ($O(1)$)\n",
    "    3. $B\\cap I \\neq \\emptyset \\wedge B\\not\\subseteq I$. En este caso, tenemos que iterar sobre $B$ para encontrar cuáles son los elementos que están en $I$, y sumarlos. ($O(k)$)\n",
    "    \n",
    "El tercer caso sólo puede pasar para dos bloques: los que están en el extremo izquierdo y derecho del intervalo. Por lo tanto, la complejidad de estos casos es $O(k)$. \n",
    "\n",
    "Por otro lado, como hay un total de $\\frac{n}{k}$ bloques, el primer y segundo caso no pueden pasar más de esta cantidad, así que su complejidad es $(O(\\frac{n}{k}))$.\n",
    "\n",
    "Por lo tanto, la complejidad del problema completo es $O\\left(\\frac{n}{k}+k\\right)$.\n",
    "\n",
    "Entonces, queremos encontrar la $k$ que minimice esta cantidad. Derivando e igualando a cero, obtenemos $k=\\sqrt{n}$.\n",
    "\n",
    "## Segment tree\n",
    "\n",
    "Una manera de representar esta estructura es utilizando un árbol binario, donde cada nodo representa a un intervalo, y tiene los siguientes atributos:\n",
    "\n",
    "* `value`: Suma del intervalo.\n",
    "* `left`: Hijo izquierdo.\n",
    "* `right`: Hijo derecho.\n",
    "* `start`: Extremo izquierdo del intervalo.\n",
    "* `end`: Extremo derecho del intervalo.\n",
    "\n",
    "El intervalo de un nodo padre es la unión de los intervalos de sus dos hijos. Los nodos hoja corresponden a los intervalos triviales de la lista original (i.e. $[L_0, L_0], [L_1, L_1]$, etc.)\n",
    "\n",
    "De este modo, logramos que preguntar por la suma en un intervalo $[l,r]$ sea $O(logn)$, mientras que actualizar también nos tomará $O(logn)$, ya que esta es la altura de nuestro árbol.\n",
    "\n",
    "Veamos una implementación de esta estructura y un ejemplo de su uso."
   ]
  },
  {
   "cell_type": "code",
   "execution_count": 132,
   "metadata": {
    "colab": {
     "base_uri": "https://localhost:8080/"
    },
    "id": "49hIhauoJMna",
    "outputId": "20694821-71e0-48bb-e598-2fdb307572ee"
   },
   "outputs": [],
   "source": [
    "class SegNode:\n",
    "    def __init__(self, L, l=None, r=None):\n",
    "        self.value = 0\n",
    "        \n",
    "        if l is None:\n",
    "            l = 0\n",
    "        if r is None:\n",
    "            r = len(L) - 1\n",
    "        \n",
    "        self.start = l\n",
    "        self.end = r\n",
    "        if self.start == self.end:\n",
    "            self.value = L[self.start]\n",
    "        else:\n",
    "            m = (l+r)//2\n",
    "            self.left = SegNode(L, l=self.start, r=m)\n",
    "            self.right = SegNode(L, l=m+1, r=self.end)\n",
    "            if self.left is not None:\n",
    "                self.value += self.left.value\n",
    "            if self.right is not None:\n",
    "                self.value += self.right.value\n",
    "    \n",
    "    def _arr_str(self):\n",
    "        return f'[{self.start}, {self.end}]'\n",
    "    \n",
    "    def __repr__(self):\n",
    "        return f'{self._arr_str()}\\nHijos: {self.left._arr_str()}, {self.right._arr_str()}'\n",
    "    \n",
    "    def query(self, l=None, r=None):\n",
    "        if l is None:\n",
    "            l = self.start\n",
    "        if r is None:\n",
    "            r = self.end\n",
    "            \n",
    "        if l <= self.start and self.end <= r:\n",
    "            return self.value\n",
    "        if self.end < l:\n",
    "            return 0\n",
    "        if r < self.start:\n",
    "            return 0\n",
    "        \n",
    "        s = 0\n",
    "        if self.left is not None:\n",
    "            s += self.left.query(l, r)\n",
    "        if self.right is not None:\n",
    "            s += self.right.query(l, r)\n",
    "        return s\n",
    "    \n",
    "    def update(self, i, val):\n",
    "        if self.end < i or i < self.start:\n",
    "            return self.value\n",
    "        \n",
    "        if self.end == self.start == i:\n",
    "            self.value = val\n",
    "        else:\n",
    "            s = 0\n",
    "            if self.left is not None:\n",
    "                s += self.left.update(i, val)\n",
    "            if self.right is not None:\n",
    "                s += self.right.update(i, val)\n",
    "        return self.value"
   ]
  },
  {
   "cell_type": "code",
   "execution_count": 133,
   "metadata": {},
   "outputs": [
    {
     "name": "stdout",
     "output_type": "stream",
     "text": [
      "[ 5  5 24  2 13 21 19 28  0 17 29  6  1 11 12  0 10 23 17 24]\n"
     ]
    }
   ],
   "source": [
    "L = np.random.randint(0, 30, 20)\n",
    "print(L)\n",
    "test = SegNode(L)"
   ]
  }
 ],
 "metadata": {
  "colab": {
   "collapsed_sections": [],
   "include_colab_link": true,
   "name": "Divide y vencerás con estructuras de datos.ipynb",
   "provenance": []
  },
  "kernelspec": {
   "display_name": "Python 3 (ipykernel)",
   "language": "python",
   "name": "python3"
  },
  "language_info": {
   "codemirror_mode": {
    "name": "ipython",
    "version": 3
   },
   "file_extension": ".py",
   "mimetype": "text/x-python",
   "name": "python",
   "nbconvert_exporter": "python",
   "pygments_lexer": "ipython3",
   "version": "3.8.12"
  }
 },
 "nbformat": 4,
 "nbformat_minor": 4
}
